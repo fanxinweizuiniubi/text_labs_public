{
 "cells": [
  {
   "cell_type": "markdown",
   "id": "5ba36903-ee71-4a62-9bb8-8e0270fdae64",
   "metadata": {},
   "source": [
    "# Text Analytics Lab 5: Pretrained Language Models"
   ]
  },
  {
   "cell_type": "markdown",
   "id": "d244c460-fa21-482a-a6e6-4216f8f74c24",
   "metadata": {
    "tags": []
   },
   "source": [
    "This notebook introduces the Transformers library from HuggingFace, which we can use to access a wide range of pretrained language models. The sections are:\n",
    "\n",
    "   1. **Introducing Transformers:** This section introduces the Transformers library from HuggingFace, showing you how to use it to obtain contextualised embeddings from pretrained transformer models.\n",
    "   1. **Transformers for Text Classification:** Here we show you how to construct a classifier using Transformers.\n",
    "   1. **OPTIONAL: More on Transformers:** Some pointers to other materials if you want to learn more about transformers, e.g., if using them in your summer project. \n",
    "\n",
    "Example code for all the tasks has been tested on a four-year old MacBook Pro, and the longest training process took under 10 minutes. If you find that the code takes too long to run on your own machine, a good alternative is to use [Google Colab](https://colab.research.google.com/), Amazon Sagemaker Studio, or hte lab machines on campus. \n",
    "\n",
    "## Learning Outcomes\n",
    "\n",
    "These sections will contain tutorial-like instructions, as you have seen in previous text analytics labs. On completing these sections, the intended learning outcomes are that you will be able to...\n",
    "1. Use pretrained transformers to obtain contextualised word and sentence embeddings.\n",
    "1. Apply a pretrained QA model to a new dataset. \n",
    "1. Construct classifiers with pretrained transformers. \n",
    "1. Find documentation on pretrained models in the Transformers library."
   ]
  },
  {
   "cell_type": "code",
   "execution_count": 1,
   "id": "1e3b707e-0ce9-49cb-b226-6ad387fddebb",
   "metadata": {},
   "outputs": [],
   "source": [
    "import numpy as np\n",
    "import torch \n",
    "from datasets import load_dataset\n",
    "\n",
    "cache_dir = \"./data_cache\""
   ]
  },
  {
   "cell_type": "markdown",
   "id": "1e8a9045-9d0b-4427-b91c-a085496de2a5",
   "metadata": {},
   "source": [
    "# 1. Introducing Transformers \n",
    "\n",
    "HuggingFace is a company that has developed an open source library for loading pretrained transformer models. They also distribute many models that have been pretrained using language modelling tasks, or fine-tuned to specific downstream NLP tasks.  It is currently the best library to use to create NLP models on top of large, deep neural networks. This is especially useful for tasks where simpler, feature-based methods or smaller LSTM models do not perform well enough, for example, when complex processing of syntax and semantics is required (natural language 'understanding'). \n",
    "\n",
    "The larger models often give great performance, but the trade-off is that they require a lot of memory and compute. When building a model for a new dataset, it is a good idea to compare faster models with transformers to determine whether the performance/cost trade-off is worth it on that particular dataset. \n",
    "\n",
    "Let's start by looking at two key types of object in the transformers library: models and tokenizers.\n",
    "\n",
    "## 1.1. Models\n",
    "\n",
    "The neural network models available in the Transformers library are accessed through wrapper classes such as `AutoModel`. If we want to load a pretrained model, we can simply pass its name to the `from_pretrained` function, and the pretrained model weights will be downloaded from HuggingFace and a neural network model will be created with those weights. For example:"
   ]
  },
  {
   "cell_type": "code",
   "execution_count": 2,
   "id": "122d993d-e48c-4dc2-bc14-2949b3d67e16",
   "metadata": {},
   "outputs": [],
   "source": [
    "from transformers import AutoModel\n",
    "\n",
    "model = AutoModel.from_pretrained(\"huawei-noah/TinyBERT_General_4L_312D\") "
   ]
  },
  {
   "cell_type": "markdown",
   "id": "bfe226ec-580f-4022-97b0-e5010ddfb55e",
   "metadata": {},
   "source": [
    "This code loads the TinyBERT model, which is a compressed version of BERT. It has 4.4 million parameters, compared to the standard version of BERT, 'BERT-base', which has 110 million parameters. While TinyBERT will not perform as well as larger models, we will use it for this notebook to save memory and computation costs. See [documentation here](https://huggingface.co/huawei-noah/TinyBERT_General_4L_312D).\n",
    "\n",
    "<!--the RoBERTa variant of BERT. It has 4.4 million parameters, compared to the standard version of BERT, 'BERT-base', which has 110 million parameters. While RoBERTa-tiny will not perform as well as larger models, we will use it for this notebook to save memory and computation costs. See [documentation here](https://huggingface.co/arampacha/roberta-tiny).  -->\n",
    "\n",
    "The same functions can be used to load other models from HuggingFace's repository simply by changing the model's name. Take a look at [the Models page](https://huggingface.co/models) so see what there is on offer. Do you recognise any of the models' names?\n",
    "\n",
    "# 1.2. Tokenizers\n",
    "\n",
    "Before we can apply a model to some text, we need to a create Tokenizer object. In Transfomers, Tokenizer objects convert raw text to a sequence of numbers. First, the tokenizer actually performs tokenization, then it maps each token to its numerical ID. There are lots of different tokenizers that we can use to preprocess text. If we are loading a pretrained model, we will need to choose the tokenizer that corresponds to that model. \n",
    "\n",
    "**TO-DO 1:** Why is it necessary to choose a matching tokenizer for a pretrained model?\n",
    "\n",
    "We can load the right tokenizer as follows, in the same way we loaded the model itself:"
   ]
  },
  {
   "cell_type": "code",
   "execution_count": 3,
   "id": "d24395ef-aa4a-4d62-a6ea-aa97d86f42c2",
   "metadata": {},
   "outputs": [],
   "source": [
    "from transformers import AutoTokenizer\n",
    "\n",
    "tokenizer = AutoTokenizer.from_pretrained(\"huawei-noah/TinyBERT_General_4L_312D\")"
   ]
  },
  {
   "cell_type": "markdown",
   "id": "7b0ed12c-cb5a-48c5-b67f-7d17b0a79514",
   "metadata": {},
   "source": [
    "Let's see what the TinyBERT tokenizer does to an example sentence:"
   ]
  },
  {
   "cell_type": "code",
   "execution_count": 4,
   "id": "73e5852f-46b3-4e28-b952-780f472b6a7e",
   "metadata": {},
   "outputs": [
    {
     "name": "stdout",
     "output_type": "stream",
     "text": [
      "['the', 'transform', '##er', 'architecture', 'has', 'transformed', 'the', 'field', 'of', 'nl', '##p', '.']\n"
     ]
    }
   ],
   "source": [
    "sentence = \"The transformer architecture has transformed the field of NLP.\"\n",
    "\n",
    "tokens = tokenizer.tokenize(sentence)\n",
    "print(tokens)"
   ]
  },
  {
   "cell_type": "markdown",
   "id": "6807c966-188f-4a0b-b435-4282d5aa0201",
   "metadata": {},
   "source": [
    "Let's compare with the NLTK tokenizer we have seen before:"
   ]
  },
  {
   "cell_type": "code",
   "execution_count": 5,
   "id": "ee63d96e-2441-4591-bff9-3a1bf6289828",
   "metadata": {},
   "outputs": [
    {
     "name": "stderr",
     "output_type": "stream",
     "text": [
      "huggingface/tokenizers: The current process just got forked, after parallelism has already been used. Disabling parallelism to avoid deadlocks...\n",
      "To disable this warning, you can either:\n",
      "\t- Avoid using `tokenizers` before the fork if possible\n",
      "\t- Explicitly set the environment variable TOKENIZERS_PARALLELISM=(true | false)\n"
     ]
    },
    {
     "name": "stdout",
     "output_type": "stream",
     "text": [
      "['The', 'transformer', 'architecture', 'has', 'transformed', 'the', 'field', 'of', 'NLP', '.']\n"
     ]
    }
   ],
   "source": [
    "from nltk.tokenize import word_tokenize\n",
    "\n",
    "nltk_tokens = word_tokenize(sentence)\n",
    "print(nltk_tokens)"
   ]
  },
  {
   "cell_type": "markdown",
   "id": "ad2f2123-34a6-4095-9981-2966fdadd7d8",
   "metadata": {},
   "source": [
    "While NLTK keeps whole words as tokens, the BERT tokenizer splits some words into sub-words and inserts some special characters into the tokens. Splitting is applied to words with low frequency in the training set, such as 'transformer'. \n",
    "\n",
    "Rather than following a set of hand-crafted rules, the BERT tokenizer is learned from a large dataset. It starts by adding individual characters to its vocabulary. Then, it adds the most frequently occurring pairs of characters as tokens in the vocabulary. This repeats by adding the most frequent pairs of tokens to the vocabulary until the desired size of dictionary is reached. When tokenizing a document, words that are not in the vocabulary are matched against the shorter sub-word tokens.\n",
    "\n",
    "**TO-DO 2:** What is the benefit of splitting some words into sub-word tokens? \n",
    "\n",
    "WRITE YOUR ANSWER HERE.\n",
    "\n",
    "Rare/out-of-vocabulary words can often be broken into constituent parts, like stems/root forms of a verb, suffixes, prefixes, and other parts of words. The meaning can be composed from these parts, and these parts may convey syntactic or semantic information themselves that is useful for processing the whole sentence. Using subwords to represent rare words also allows us to limit vocabulary size.\n",
    "\n",
    "---\n",
    "\n",
    "After tokenization, the Tokenizer object can also map the tokens to their IDs (indexes in the vocabulary), so that we can pass them as input to a neural network:"
   ]
  },
  {
   "cell_type": "code",
   "execution_count": 6,
   "id": "950440ae-d58f-4675-8fb4-6114462331fd",
   "metadata": {},
   "outputs": [
    {
     "name": "stdout",
     "output_type": "stream",
     "text": [
      "[1996, 10938, 2121, 4294, 2038, 8590, 1996, 2492, 1997, 17953, 2361, 1012]\n"
     ]
    }
   ],
   "source": [
    "ids = tokenizer.convert_tokens_to_ids(tokens)\n",
    "\n",
    "print(ids)"
   ]
  },
  {
   "cell_type": "markdown",
   "id": "eab127d8-6e03-41bb-a646-91f8ef83ae20",
   "metadata": {},
   "source": [
    "Let's load up a dataset that we can use for our experiments later on. We will use the [TweetEval hate speech](https://huggingface.co/datasets/tweet_eval) dataset to train and test a classifier. The task is to classify tweets into one of  0: non-hate or 1: hate."
   ]
  },
  {
   "cell_type": "code",
   "execution_count": 1,
   "id": "5fcd5efd",
   "metadata": {},
   "outputs": [
    {
     "name": "stdout",
     "output_type": "stream",
     "text": [
      "Training dataset with 9000 instances loaded\n",
      "Validation dataset with 1000 instances loaded\n",
      "Test dataset with 2970 instances loaded\n"
     ]
    }
   ],
   "source": [
    "### WRITE YOUR ANSWER HERE (Code for 6d; feel free to use multiple cells and copy code from above) ###\n",
    "from datasets import load_dataset\n",
    "\n",
    "cache_dir = './data_cache/'\n",
    "\n",
    "# Load up the emotion dataset...\n",
    "train_dataset = load_dataset(\n",
    "    \"tweet_eval\",\n",
    "    name=\"hate\",\n",
    "    split=\"train\",\n",
    "    cache_dir=cache_dir,\n",
    ")\n",
    "print(f\"Training dataset with {len(train_dataset)} instances loaded\")\n",
    "\n",
    "val_dataset = load_dataset(\n",
    "    \"tweet_eval\",\n",
    "    name=\"hate\",\n",
    "    split=\"validation\",\n",
    "    cache_dir=cache_dir,\n",
    ")\n",
    "print(f\"Validation dataset with {len(val_dataset)} instances loaded\")\n",
    "\n",
    "test_dataset = load_dataset(\n",
    "    \"tweet_eval\",\n",
    "    name=\"hate\",\n",
    "    split=\"test\",\n",
    "    cache_dir=cache_dir,\n",
    ")\n",
    "print(f\"Test dataset with {len(test_dataset)} instances loaded\")"
   ]
  },
  {
   "cell_type": "markdown",
   "id": "f226758a-82fb-4b5a-bc27-83a71abbf1b9",
   "metadata": {},
   "source": [
    "Now, let's see apply our tokenizer to the dataset, using the map function to run it on all samples:"
   ]
  },
  {
   "cell_type": "code",
   "execution_count": 4,
   "id": "d5b94acc-77ff-434e-99d0-ec49f00fa58c",
   "metadata": {},
   "outputs": [
    {
     "data": {
      "application/vnd.jupyter.widget-view+json": {
       "model_id": "dfb711b0c6c548288be6611c2f63dfc4",
       "version_major": 2,
       "version_minor": 0
      },
      "text/plain": [
       "Map:   0%|          | 0/9000 [00:00<?, ? examples/s]"
      ]
     },
     "metadata": {},
     "output_type": "display_data"
    },
    {
     "data": {
      "application/vnd.jupyter.widget-view+json": {
       "model_id": "212ee3b4cec84b588ef3956fc98f8370",
       "version_major": 2,
       "version_minor": 0
      },
      "text/plain": [
       "Map:   0%|          | 0/1000 [00:00<?, ? examples/s]"
      ]
     },
     "metadata": {},
     "output_type": "display_data"
    },
    {
     "data": {
      "application/vnd.jupyter.widget-view+json": {
       "model_id": "624d6bdfb6ed4b03bfe4dda9e249f36e",
       "version_major": 2,
       "version_minor": 0
      },
      "text/plain": [
       "Map:   0%|          | 0/2970 [00:00<?, ? examples/s]"
      ]
     },
     "metadata": {},
     "output_type": "display_data"
    }
   ],
   "source": [
    "# tokenize...\n",
    "tokenizer = AutoTokenizer.from_pretrained(\"huawei-noah/TinyBERT_General_4L_312D\")\n",
    "\n",
    "def tokenize_function(dataset):\n",
    "    model_inputs = tokenizer(dataset['text'], padding=\"max_length\", max_length=128, truncation=True)\n",
    "    return model_inputs\n",
    "\n",
    "train_dataset = train_dataset.map(tokenize_function, batched=True)\n",
    "val_dataset = val_dataset.map(tokenize_function, batched=True)\n",
    "test_dataset = test_dataset.map(tokenize_function, batched=True)"
   ]
  },
  {
   "cell_type": "code",
   "execution_count": 5,
   "id": "db5bc90e",
   "metadata": {},
   "outputs": [
    {
     "data": {
      "text/plain": [
       "Dataset({\n",
       "    features: ['text', 'label', 'input_ids', 'token_type_ids', 'attention_mask'],\n",
       "    num_rows: 9000\n",
       "})"
      ]
     },
     "execution_count": 5,
     "metadata": {},
     "output_type": "execute_result"
    }
   ],
   "source": [
    "train_dataset"
   ]
  },
  {
   "cell_type": "markdown",
   "id": "ae17f77c-46f4-4ab0-9eee-858fd0b237f2",
   "metadata": {},
   "source": [
    "## 1.3. Contextualised Embeddings\n",
    "\n",
    "Now that we have a sequence of tokens, we are almost ready to process the sequence using the pretrained model. \n",
    "\n",
    "Our model takes as input a PyTorch `tensor` (a muli-dimensional array). Here, we need a two-dimensional matrix, where each row is a sequence of input tokens corresponding to a single sentence or document. Let's convert our list of IDs to a 2-D tensor with a single row:"
   ]
  },
  {
   "cell_type": "code",
   "execution_count": null,
   "id": "9c333937",
   "metadata": {},
   "outputs": [],
   "source": []
  },
  {
   "cell_type": "code",
   "execution_count": 9,
   "id": "07007371-2125-4fb0-8511-63ade9a2f796",
   "metadata": {},
   "outputs": [
    {
     "name": "stdout",
     "output_type": "stream",
     "text": [
      "tensor([[ 1996, 10938,  2121,  4294,  2038,  8590,  1996,  2492,  1997, 17953,\n",
      "          2361,  1012]])\n"
     ]
    }
   ],
   "source": [
    "ids_tensor = torch.tensor([ids])\n",
    "\n",
    "print(ids_tensor)"
   ]
  },
  {
   "cell_type": "markdown",
   "id": "508047c1-96fa-4839-9eb3-8e64e91c5919",
   "metadata": {},
   "source": [
    "Now we can process the sequence using our model. The pretrained transformer model maps the sequence of input IDs to a sequence of output vectors, which are contextualised word embeddings. The hidden state values produced in the last hidden layer of the model are used as the contextualised embeddings:"
   ]
  },
  {
   "cell_type": "code",
   "execution_count": 10,
   "id": "494c8335-7c8a-47c2-b450-a3b775f2262f",
   "metadata": {},
   "outputs": [
    {
     "name": "stdout",
     "output_type": "stream",
     "text": [
      "The complete model outputs: \n",
      "BaseModelOutputWithPoolingAndCrossAttentions(last_hidden_state=tensor([[[ 0.3608,  0.2862, -0.1549,  ..., -0.2064,  0.2663, -0.0109],\n",
      "         [ 0.0149,  0.7223, -0.0508,  ..., -0.5505,  0.2355, -0.2962],\n",
      "         [ 0.1531,  0.5903, -0.1244,  ..., -0.4263,  0.0417, -0.1839],\n",
      "         ...,\n",
      "         [ 0.1742, -0.1091, -0.1963,  ..., -0.6736,  0.0472, -0.1840],\n",
      "         [ 0.2434,  0.1021, -0.2241,  ..., -0.5400, -0.1691, -0.1314],\n",
      "         [ 0.0854,  0.3272, -0.3016,  ..., -0.2154, -0.5632, -0.1921]]],\n",
      "       grad_fn=<NativeLayerNormBackward0>), pooler_output=tensor([[-1.1380e-02, -6.3005e-03,  1.8521e-02,  7.1139e-03, -3.1795e-02,\n",
      "          1.3882e-02, -1.5459e-02, -1.0611e-03, -1.8263e-02, -3.6515e-02,\n",
      "         -2.1257e-02, -1.5479e-02, -2.8086e-04, -4.1093e-02, -2.5315e-02,\n",
      "         -4.3338e-02, -1.1617e-03, -1.3931e-02,  6.0733e-03,  4.3790e-03,\n",
      "          2.7086e-04, -2.1810e-02, -4.8026e-02,  2.5493e-02, -1.6502e-02,\n",
      "         -1.2034e-03,  4.2757e-02,  3.0715e-03, -2.3439e-02, -2.5849e-02,\n",
      "         -1.1970e-02,  3.4341e-02, -1.9019e-04, -2.9000e-03, -4.1984e-02,\n",
      "          2.2932e-02,  4.0502e-02,  2.0257e-02, -3.0206e-03, -1.5759e-02,\n",
      "         -4.6124e-02,  6.4128e-03, -1.3939e-02,  4.7155e-02, -2.6471e-03,\n",
      "          3.4991e-03, -4.6633e-03,  8.5901e-03, -5.5664e-02,  9.6635e-03,\n",
      "         -1.9049e-02, -2.3983e-02,  6.6501e-03, -8.3702e-03, -1.4176e-02,\n",
      "          5.6313e-03,  4.2979e-03,  2.4337e-02, -5.4480e-04,  1.1454e-02,\n",
      "         -1.0526e-02, -2.5978e-02, -2.8789e-03, -1.9641e-02, -7.0220e-03,\n",
      "          1.9534e-02,  1.2682e-02, -5.3417e-02, -2.8265e-03,  7.8938e-03,\n",
      "         -4.0802e-02,  3.5494e-02, -8.6865e-03, -1.3383e-02,  1.6433e-03,\n",
      "          5.4637e-03,  1.8293e-02, -1.7385e-02,  3.4079e-02, -3.3782e-02,\n",
      "         -1.4324e-02,  3.0941e-02, -2.2349e-02, -1.4385e-02,  1.6197e-03,\n",
      "          2.3094e-02, -2.1322e-02,  2.5966e-02, -1.5705e-02, -2.1027e-03,\n",
      "         -1.5518e-02,  2.8620e-02,  1.5401e-02, -3.7512e-02, -6.7669e-03,\n",
      "         -8.8314e-03, -1.0061e-02, -1.0518e-02, -1.4193e-02,  4.8184e-02,\n",
      "         -4.2733e-02, -6.8396e-04,  8.1719e-03,  6.9233e-03, -2.9023e-04,\n",
      "         -1.6003e-02, -5.5383e-03,  8.2020e-03,  1.7942e-02, -2.9106e-02,\n",
      "          3.7280e-02,  2.1299e-04,  4.1467e-02, -3.1194e-02, -2.8117e-02,\n",
      "         -1.1518e-02,  4.7533e-02, -2.4884e-02, -2.2532e-02,  1.1021e-02,\n",
      "          4.2616e-02, -2.3387e-02,  3.1372e-02,  2.8327e-03,  9.1081e-03,\n",
      "          2.9967e-02,  1.8474e-02, -6.1313e-02,  1.1888e-02, -1.0234e-02,\n",
      "         -1.7436e-02, -2.5382e-03, -2.0706e-02,  6.2740e-03,  3.5936e-02,\n",
      "         -2.7933e-02,  2.7344e-02,  5.7079e-02, -1.6678e-02,  2.4630e-02,\n",
      "          2.6224e-02,  6.1135e-03,  1.2738e-02, -3.5122e-02, -6.0352e-02,\n",
      "          3.7475e-02, -2.0558e-02, -1.1147e-02, -2.5519e-02, -1.6405e-02,\n",
      "         -5.6021e-03,  3.6427e-02, -3.9645e-03,  6.1233e-03,  1.0637e-02,\n",
      "          2.0472e-02,  3.1075e-03,  1.8298e-02, -7.4329e-03,  1.4522e-02,\n",
      "         -3.2960e-02,  4.0197e-02, -4.9703e-02,  1.5634e-02,  3.3699e-02,\n",
      "          4.1567e-02,  3.4694e-02, -3.8650e-02,  4.7024e-02,  4.5112e-03,\n",
      "         -3.7264e-02, -3.8624e-02, -1.5380e-02,  9.4786e-03, -5.9180e-04,\n",
      "          2.2612e-02,  1.6623e-02,  3.8172e-02,  1.8444e-02, -2.8130e-02,\n",
      "         -8.9477e-04,  9.6280e-03,  1.0078e-02, -3.0724e-02,  2.3116e-02,\n",
      "          2.2716e-02, -2.7906e-02, -2.4386e-02,  6.4444e-03,  4.0045e-02,\n",
      "         -3.8941e-02, -1.3221e-03,  3.2294e-02,  1.9687e-02,  1.5107e-03,\n",
      "          2.2807e-03,  1.1437e-02,  2.1764e-03,  2.4419e-02,  2.5356e-02,\n",
      "         -3.9937e-02,  3.6392e-02, -1.4530e-03,  4.5135e-03, -3.1404e-02,\n",
      "         -2.7645e-02,  3.7107e-02, -2.8359e-02,  2.1804e-02, -2.8085e-02,\n",
      "          2.3142e-02, -3.7059e-02, -3.2632e-02, -3.4501e-02, -5.5988e-03,\n",
      "          4.1900e-03,  6.4633e-04, -4.4314e-02, -4.9819e-02,  2.1470e-02,\n",
      "          1.3016e-02,  1.4301e-02,  1.8736e-02, -5.1865e-03,  1.5026e-02,\n",
      "         -2.1922e-05,  3.7323e-02, -4.4686e-02,  2.5535e-02, -1.6726e-02,\n",
      "          7.3110e-03,  4.8088e-05, -4.0819e-03, -1.7965e-03,  2.8757e-02,\n",
      "          5.1982e-02, -3.4868e-02,  2.4777e-02, -6.2330e-03, -1.9709e-02,\n",
      "         -2.1922e-02,  3.1252e-02,  1.3890e-02, -1.7581e-02,  3.5594e-02,\n",
      "          4.8340e-03,  2.7993e-03, -2.6515e-02, -1.4557e-02, -3.1771e-02,\n",
      "          4.0668e-02,  3.3960e-02,  1.6408e-02,  3.1032e-03, -1.5013e-02,\n",
      "         -9.6831e-03, -1.3780e-02, -3.2977e-02,  1.1426e-02, -4.0551e-03,\n",
      "         -2.4082e-03,  3.5824e-02, -4.9809e-02,  3.7798e-02,  1.7321e-02,\n",
      "          1.0082e-02,  5.8975e-02, -4.2596e-02,  3.6302e-02, -1.2863e-02,\n",
      "         -3.1071e-02,  1.3231e-03, -2.5990e-02, -1.7098e-02, -1.9114e-02,\n",
      "          6.7507e-03,  1.4090e-02,  2.7720e-02,  2.3714e-02, -1.8923e-02,\n",
      "         -2.0685e-02, -4.4663e-02, -1.6670e-02, -1.3620e-02,  1.5473e-02,\n",
      "         -4.4576e-03,  7.4261e-04, -3.9406e-03,  1.4169e-02, -2.6952e-03,\n",
      "         -2.6419e-02,  2.4067e-02,  4.7123e-02,  8.8111e-03,  1.7120e-02,\n",
      "          1.0671e-02, -2.4989e-03,  4.1720e-03, -3.7655e-02,  1.7643e-02,\n",
      "          1.0087e-02, -9.5764e-03, -2.1317e-02, -4.8866e-02, -1.9793e-02,\n",
      "          2.8578e-02,  1.2889e-02, -1.9376e-02,  4.6893e-02, -8.4310e-04,\n",
      "          1.6833e-03,  4.6231e-02]], grad_fn=<TanhBackward0>), hidden_states=None, past_key_values=None, attentions=None, cross_attentions=None)\n",
      "\n",
      "The last hidden state for the first token in the sequence (the first word embedding): \n",
      "tensor([[ 0.3608,  0.2862, -0.1549,  ..., -0.2064,  0.2663, -0.0109],\n",
      "        [ 0.0149,  0.7223, -0.0508,  ..., -0.5505,  0.2355, -0.2962],\n",
      "        [ 0.1531,  0.5903, -0.1244,  ..., -0.4263,  0.0417, -0.1839],\n",
      "        ...,\n",
      "        [ 0.1742, -0.1091, -0.1963,  ..., -0.6736,  0.0472, -0.1840],\n",
      "        [ 0.2434,  0.1021, -0.2241,  ..., -0.5400, -0.1691, -0.1314],\n",
      "        [ 0.0854,  0.3272, -0.3016,  ..., -0.2154, -0.5632, -0.1921]],\n",
      "       grad_fn=<SelectBackward0>)\n"
     ]
    }
   ],
   "source": [
    "model_outputs = model(ids_tensor)\n",
    "print('The complete model outputs: ')\n",
    "print(model_outputs)\n",
    "\n",
    "print()\n",
    "print('The last hidden state for the first token in the sequence (the first word embedding): ')\n",
    "embeddings = model_outputs['last_hidden_state'][0]\n",
    "print(embeddings)"
   ]
  },
  {
   "cell_type": "markdown",
   "id": "1cee4181-7518-484f-993d-f7abffcae010",
   "metadata": {},
   "source": [
    "We can retrieve the embedding vector for \"transform\" like this (\"transform\" is the second token in the sequence):"
   ]
  },
  {
   "cell_type": "code",
   "execution_count": 11,
   "id": "b3df76db-f81e-4916-b31d-34a8341a20db",
   "metadata": {},
   "outputs": [
    {
     "name": "stdout",
     "output_type": "stream",
     "text": [
      "[ 1.49144363e-02  7.22318411e-01 -5.07860035e-02 -2.74205655e-01\n",
      " -1.38931677e-01  1.00099552e+00  7.11401179e-03  2.71392465e-01\n",
      " -3.92818078e-02  6.04100972e-02  1.25740811e-01  4.60632354e-01\n",
      "  6.25252631e-03  1.61930084e-01  1.23913243e-01 -4.08096254e-01\n",
      "  1.24867827e-01 -4.71535742e-01  2.24769041e-01  6.35193437e-02\n",
      "  8.56179446e-02 -1.88044608e-01  1.77257821e-01  3.40049446e-01\n",
      " -1.95546269e-01  1.58553302e-01  9.62863266e-02  1.12649642e-01\n",
      "  2.21044883e-01 -9.56113100e-01 -3.85949254e-01  1.39220610e-01\n",
      "  5.90012193e-01 -8.06728005e-01 -1.34287283e-01  2.35692069e-01\n",
      " -1.02274984e-01  2.78303534e-01  7.94322014e-01 -2.49363452e-01\n",
      "  1.72772586e-01 -2.07582504e-01  3.00156951e-01 -8.59340578e-02\n",
      " -2.25284740e-01 -9.75410715e-02 -3.52349907e-01  3.81161809e-01\n",
      " -3.87681395e-01 -1.77614003e-01 -4.13685471e-01  1.38046771e-01\n",
      "  1.29873455e-02  6.52684987e-01  1.16502956e-01 -5.10778785e-01\n",
      " -8.30405876e-02 -2.67043337e-02  3.12862992e-01 -2.62848496e-01\n",
      " -1.43285140e-01  1.10270299e-01 -1.46888658e-01  8.40613842e-02\n",
      " -5.41599393e-01 -2.74967682e-02 -2.71180809e-01  3.61281693e-01\n",
      "  1.86116159e-01 -2.27869451e-01 -8.60139802e-02  4.15634423e-01\n",
      " -2.35572606e-02  2.90852398e-01 -4.29376185e-01  5.02850115e-01\n",
      "  4.46188718e-01 -3.45921248e-01 -1.07706122e-01  9.98827368e-02\n",
      "  4.75118935e-01  1.42711341e-01  6.47610798e-03  1.91734433e-02\n",
      "  4.32647198e-01 -7.28577599e-02  1.23886645e-01  4.31222200e-01\n",
      " -2.87044644e-01  8.61874819e-01 -3.77016544e-01 -2.96231627e-01\n",
      " -6.53618500e-02 -1.08727470e-01 -5.34366727e-01  2.30698988e-01\n",
      " -4.43290733e-02  8.28529708e-03 -4.80110109e-01  6.32634908e-02\n",
      "  3.46862823e-01 -1.00404546e-02  2.46483803e-01  1.04727656e-01\n",
      "  5.85355088e-02 -1.73106521e-01 -1.63396284e-01 -1.42521486e-01\n",
      " -1.41768217e-01  5.59849218e-02  2.56439239e-01 -3.92891467e-01\n",
      " -3.47414166e-01 -5.97775221e-01 -1.29221410e-01 -3.44480276e-01\n",
      "  7.78065920e-02  2.47690335e-01  3.36302936e-01 -1.69770464e-01\n",
      "  5.26934266e-02 -4.30813313e-01 -7.06476629e-01  2.43622959e-02\n",
      " -2.37542033e-01 -3.28975827e-01  1.46830961e-01  4.63138759e-01\n",
      " -7.27376193e-02  4.38401103e-02  4.04203311e-02 -3.49182524e-02\n",
      " -5.20075113e-02 -1.70057744e-01  3.05907130e-02  9.56191570e-02\n",
      "  1.73355973e+00  2.14067474e-01  6.37326911e-02  5.80559850e-01\n",
      " -9.82586443e-02 -4.88570511e-01  2.82071292e-01  2.64479131e-01\n",
      "  3.23806018e-01 -2.94938385e-01  1.32838443e-01 -3.09565756e-02\n",
      "  1.98950246e-01  1.01506911e-01  3.46357942e-01  4.12194252e-01\n",
      " -2.06010580e-01  1.38656333e-01  8.95754099e-02 -9.03495252e-02\n",
      "  1.60652660e-02  1.04298458e-01  5.76754391e-01  4.83328402e-01\n",
      "  1.27746597e-01 -4.36364859e-02  2.58013338e-01 -7.33285099e-02\n",
      " -3.81113201e-01 -4.86678854e-02  5.54442942e-01 -2.71801651e-02\n",
      " -3.28380316e-01  1.03764832e-01 -7.67534748e-02 -2.55300403e-01\n",
      " -4.58067358e-01 -6.74325824e-02 -5.92073053e-02 -5.33044003e-02\n",
      "  7.31044412e-01 -4.37689982e-02  1.48426592e-01 -6.68218136e-01\n",
      "  5.39265037e-01 -5.51167369e-01  3.07089597e-01 -2.95280516e-01\n",
      "  2.30029061e-01  4.45130289e-01  5.98995239e-02  3.32110703e-01\n",
      "  3.09372514e-01  7.49412894e-01  6.80034220e-01  2.81823575e-01\n",
      " -1.52892858e-01 -2.78218329e-01  1.57606766e-01 -3.44320163e-02\n",
      " -4.25325781e-01  3.65775287e-01 -6.05319925e-02 -2.44895607e-01\n",
      " -9.54141542e-02  2.14865446e-01  3.48817259e-02  4.22627628e-01\n",
      "  1.17062017e-01  1.53851524e-01  4.89413291e-01 -4.79478538e-02\n",
      " -4.35449332e-01  1.52308047e-01 -3.75605315e-01 -2.00070232e-01\n",
      " -4.52389777e-01 -9.23965871e-02  7.94970095e-02 -3.91879678e-01\n",
      "  2.03301474e-01  5.86735487e-01  1.18394978e-02 -3.49964857e-01\n",
      " -1.03545859e-02  1.67386100e-01  1.03552267e-01  1.20487362e-02\n",
      "  2.16727674e-01 -6.50196970e-02 -3.98292005e-01 -2.12186202e-01\n",
      "  1.36509575e-02 -5.55399954e-01 -2.92273939e-01  1.41717583e-01\n",
      "  5.35454273e-01  2.17892140e-01 -4.19898748e-01 -3.32856059e-01\n",
      "  3.76726180e-01 -3.19371372e-01 -3.27617347e-01  4.93491471e-01\n",
      "  1.59246638e-01  7.08295047e-01 -1.90098330e-01  5.06710351e-01\n",
      " -6.10248983e-01 -6.68388754e-02  1.14125752e+00  8.79683867e-02\n",
      " -1.85308039e-01 -1.45169929e-01  2.87572801e-01 -4.92561102e-01\n",
      "  3.61902826e-02  2.62838572e-01 -2.52178729e-01  6.15251660e-02\n",
      " -3.54110122e-01 -3.53945851e-01  1.98718488e-01  1.07959247e+00\n",
      "  1.29683304e+00  3.58776540e-01  6.75653279e-01  2.51170307e-01\n",
      " -5.65680027e-01 -4.81561452e-01  3.10951710e-01 -1.07663214e-01\n",
      " -3.67720962e-01  8.12476426e-02 -4.20884013e-01  5.78671634e-01\n",
      "  9.49737057e-02  1.65470436e-01  3.70412797e-01 -7.44724041e-03\n",
      "  4.63328391e-01 -2.38428593e-01  4.81732041e-02 -1.74412444e-01\n",
      "  8.61794204e-02 -1.35659367e-01  2.68296212e-01  2.98456401e-01\n",
      "  6.36236846e-01  2.79196680e-01 -1.57060027e-01 -2.91061044e-01\n",
      " -1.38483927e-01 -9.19549614e-02 -3.60317826e-01 -3.03814292e-01\n",
      "  2.38154411e-01  3.61208946e-01  1.53050601e-01  5.15783280e-02\n",
      " -1.36712566e-03  9.57000107e-02 -3.30189884e-01  3.86730134e-01\n",
      " -2.75555491e-01  3.30927044e-01 -2.23884732e-01 -4.71362561e-01\n",
      "  8.31371620e-02 -2.26589113e-01  2.15097398e-01  2.63799280e-01\n",
      "  3.72823268e-01 -5.50536811e-01  2.35453412e-01 -2.96165347e-01]\n",
      "The TinyBERT embeddings have 312 dimensions.\n"
     ]
    }
   ],
   "source": [
    "emb = embeddings[1]  # get second embedding in the sequence\n",
    "\n",
    "# convert it to a numpy array so we can perform various operations on it later on\n",
    "emb = emb.detach().numpy()\n",
    "\n",
    "print(emb)\n",
    "print(f'The TinyBERT embeddings have {emb.shape[0]} dimensions.')"
   ]
  },
  {
   "cell_type": "markdown",
   "id": "adc1d779-8ec7-462a-895b-e58a88d9bb63",
   "metadata": {},
   "source": [
    "**TO-DO 3:** Retrieve the embedding for \"architecture\"."
   ]
  },
  {
   "cell_type": "code",
   "execution_count": 12,
   "id": "827ca93a-d80d-4655-a417-6c6c6d1e07f7",
   "metadata": {},
   "outputs": [
    {
     "name": "stdout",
     "output_type": "stream",
     "text": [
      "tensor([ 2.7139e-01,  7.7458e-01, -3.2426e-01, -7.1433e-02, -4.9567e-04,\n",
      "         9.3731e-01, -4.4022e-03, -4.2692e-02,  1.2740e-02,  1.8927e-02,\n",
      "         1.0253e-01,  4.5466e-01,  2.7044e-01,  2.3099e-01,  4.0371e-03,\n",
      "        -1.0899e-01, -4.5991e-02, -3.5115e-01, -1.3471e-01,  8.2939e-02,\n",
      "         1.8650e-01,  5.0028e-02,  7.2166e-02,  2.2866e-01, -2.1970e-01,\n",
      "         9.4020e-02,  1.6554e-01,  1.8579e-01,  3.1778e-01, -5.0937e-01,\n",
      "        -5.0095e-01,  1.5249e-01,  4.5800e-01, -8.5188e-01, -1.5863e-01,\n",
      "         1.5897e-01,  4.1619e-02,  2.3100e-01,  8.7850e-01, -6.2317e-02,\n",
      "         1.8722e-01, -1.2337e-02,  2.1008e-01,  3.4807e-02, -2.5124e-01,\n",
      "        -1.3792e-01, -3.8870e-01,  2.9819e-01, -2.9203e-01, -3.1950e-01,\n",
      "        -1.9843e-01,  1.3203e-01, -6.4637e-02,  7.4318e-01,  7.1424e-02,\n",
      "        -3.0212e-01,  3.4978e-01, -5.8179e-02,  2.8507e-01, -4.0958e-01,\n",
      "        -1.0330e-01,  1.0377e-01, -2.2291e-01,  8.8632e-02, -4.3360e-01,\n",
      "         2.1787e-01, -2.7699e-01,  3.9959e-01,  1.6920e-01, -3.0519e-01,\n",
      "        -2.6639e-01,  7.2838e-01, -2.1169e-01,  3.9785e-01, -5.8909e-01,\n",
      "         4.2978e-01,  4.2544e-01, -2.1426e-01, -9.1708e-02,  2.1237e-01,\n",
      "         4.3058e-01, -1.4151e-01,  2.1100e-02,  1.9252e-01,  3.8790e-01,\n",
      "        -2.2849e-01,  2.3207e-01,  4.9791e-01, -1.2262e-01,  5.9461e-01,\n",
      "        -3.7332e-01, -3.3465e-01, -1.7153e-01, -1.5562e-01, -6.5699e-01,\n",
      "         1.6303e-01, -1.9850e-02, -1.4620e-01, -4.4782e-01,  1.8682e-01,\n",
      "         2.5921e-01,  8.5929e-02,  3.3952e-01, -1.2985e-01, -1.1409e-01,\n",
      "        -2.0028e-01, -2.1566e-01, -5.6376e-02, -1.0793e-01, -4.6821e-02,\n",
      "         2.5686e-01, -2.7753e-01, -2.1116e-02, -5.3542e-01, -7.2415e-02,\n",
      "        -4.1341e-01,  1.7352e-01,  1.1312e-01,  2.3880e-01, -2.2446e-01,\n",
      "         8.6293e-02,  1.1533e-02, -3.6239e-01,  2.2901e-01, -3.5063e-01,\n",
      "        -3.9716e-01, -5.6409e-03,  5.4328e-01,  4.4248e-02,  2.7485e-01,\n",
      "        -4.3289e-02, -8.1752e-02,  2.2652e-01, -2.1781e-01, -2.0981e-01,\n",
      "         3.6805e-01,  1.7491e+00,  2.3244e-01,  4.1202e-02,  4.2876e-01,\n",
      "        -7.7350e-02, -3.9446e-01,  4.5622e-01,  3.9475e-01,  3.4798e-01,\n",
      "        -1.9866e-01,  1.6628e-02,  4.1721e-02,  2.8072e-01,  1.7268e-01,\n",
      "         3.7179e-01,  4.5893e-01, -2.0369e-01,  2.0881e-01,  1.3248e-01,\n",
      "         4.3482e-03, -1.4810e-01,  1.1155e-01,  5.0559e-01,  6.2457e-01,\n",
      "         5.5676e-02, -1.9302e-01,  1.4475e-01, -2.4213e-01, -3.7723e-01,\n",
      "        -8.8338e-02,  3.1863e-01,  1.2930e-03, -4.6815e-01,  1.0901e-01,\n",
      "        -9.8820e-02,  4.3395e-02, -5.9569e-01, -6.2997e-02,  1.9007e-01,\n",
      "        -6.2226e-02,  4.4438e-01, -4.4507e-02,  3.6363e-02, -7.4973e-01,\n",
      "         6.0642e-01, -5.9444e-01,  2.2702e-01, -3.2453e-01,  2.2777e-01,\n",
      "         2.5375e-01,  3.3793e-02,  3.5470e-01,  1.4837e-01,  8.0149e-01,\n",
      "         7.3768e-01,  3.1693e-01, -4.6550e-01, -2.2000e-01,  8.5512e-02,\n",
      "         7.9039e-02, -4.2197e-01,  3.0032e-01, -1.6428e-02, -3.0500e-01,\n",
      "        -1.2967e-01,  5.9774e-02,  2.2780e-01,  2.5144e-01,  1.3294e-01,\n",
      "         1.7734e-01,  5.3502e-01, -1.2685e-01, -3.7097e-01,  1.9789e-01,\n",
      "        -5.8195e-01, -8.7313e-02, -4.3854e-01,  4.8151e-02,  4.2731e-02,\n",
      "        -3.5227e-01,  9.0656e-02,  8.3854e-01,  1.9043e-01, -3.2788e-01,\n",
      "         5.3902e-02,  2.0942e-01,  2.6107e-01,  1.4168e-01,  2.5795e-01,\n",
      "         1.1505e-01, -2.2946e-01, -3.1716e-01,  2.0359e-01, -4.9422e-01,\n",
      "        -1.8840e-01,  3.9925e-01,  3.6140e-01,  1.0215e-01, -6.3954e-01,\n",
      "        -4.5504e-01,  3.4861e-01, -3.0188e-01, -3.1184e-01,  5.3751e-01,\n",
      "         1.7970e-01,  9.5390e-01, -9.2565e-02,  2.9718e-01, -4.6427e-01,\n",
      "        -1.5498e-01,  1.0402e+00, -5.7100e-02, -1.2549e-01, -1.5998e-01,\n",
      "         3.0259e-01, -6.5434e-01,  8.3300e-02,  2.9659e-01, -2.8819e-01,\n",
      "        -5.1962e-02, -1.1606e-01, -4.0287e-01, -1.8567e-02,  8.5404e-01,\n",
      "         1.0442e+00,  2.0221e-01,  3.8742e-01,  2.7673e-01, -6.0419e-01,\n",
      "        -4.5675e-01,  1.9838e-01, -1.9707e-01, -2.9501e-01,  2.7894e-01,\n",
      "        -6.3120e-01,  5.5693e-01,  2.0348e-01,  9.1781e-02,  2.5457e-01,\n",
      "        -3.9542e-02,  2.6213e-01, -2.7572e-01,  3.5247e-01, -3.8520e-01,\n",
      "         2.1084e-01, -8.3353e-03,  2.2054e-01, -2.2407e-02,  5.5667e-01,\n",
      "         1.0101e-01, -7.7358e-02, -4.6362e-01, -3.2062e-01, -5.7820e-02,\n",
      "        -2.2930e-01, -2.7726e-01,  1.5232e-01,  4.0260e-01,  1.1090e-01,\n",
      "         1.8383e-01, -3.9561e-02,  1.6977e-02, -5.0557e-01,  6.3555e-02,\n",
      "         6.9836e-02,  5.7396e-01, -1.9718e-01, -3.7290e-01,  1.0182e-01,\n",
      "        -1.7266e-01,  2.1130e-01,  1.7053e-01,  2.3580e-01, -4.7386e-01,\n",
      "        -1.3976e-01, -2.5248e-01], grad_fn=<SelectBackward0>)\n"
     ]
    }
   ],
   "source": [
    "# WRITE YOUR ANSWER HERE\n",
    "\n",
    "print(embeddings[3])"
   ]
  },
  {
   "cell_type": "markdown",
   "id": "31c79402-f6b7-4fc3-9f47-50fcffccbe68",
   "metadata": {},
   "source": [
    "Sentences and documents usually have varying lengths. So, to put multiple sentences into a single tensor, we need to pad the sequences up to a maximum length. Luckily, the tokenizer class takes care of this for us. When we pass in a list of sentences, the tokenizer creates a matrix, where each row is a sequence of the same length:"
   ]
  },
  {
   "cell_type": "code",
   "execution_count": 13,
   "id": "c03abaed-6738-44ab-a7dd-7775743f99ba",
   "metadata": {},
   "outputs": [
    {
     "name": "stderr",
     "output_type": "stream",
     "text": [
      "Asking to truncate to max_length but no maximum length is provided and the model has no predefined maximum length. Default to no truncation.\n"
     ]
    },
    {
     "name": "stdout",
     "output_type": "stream",
     "text": [
      "{'input_ids': tensor([[  101,  1045,  2064,  2338,  9735,  2005,  1996,  4164,  2279,  2733,\n",
      "          1012,   102,     0,     0,     0,     0,     0,     0],\n",
      "        [  101,  2116,  8141,  2424,  1996,  2034,  2338,  1997,  1037,  6925,\n",
      "          1997,  2048,  3655,  2000,  2022, 16801,  1012,   102],\n",
      "        [  101,  2016,  2441,  1996,  2338,  2000,  3931,  4261,  1998,  2211,\n",
      "          2000,  3191, 12575,  1012,   102,     0,     0,     0],\n",
      "        [  101,  1996,  2610,  2359,  2000,  2338,  2032,  2005,  4439,  2205,\n",
      "          3435,  1012,   102,     0,     0,     0,     0,     0],\n",
      "        [  101,  1045,  2064,  3914,  9735,  2005,  1996,  4164,  2279,  2733,\n",
      "          1012,   102,     0,     0,     0,     0,     0,     0]]), 'token_type_ids': tensor([[0, 0, 0, 0, 0, 0, 0, 0, 0, 0, 0, 0, 0, 0, 0, 0, 0, 0],\n",
      "        [0, 0, 0, 0, 0, 0, 0, 0, 0, 0, 0, 0, 0, 0, 0, 0, 0, 0],\n",
      "        [0, 0, 0, 0, 0, 0, 0, 0, 0, 0, 0, 0, 0, 0, 0, 0, 0, 0],\n",
      "        [0, 0, 0, 0, 0, 0, 0, 0, 0, 0, 0, 0, 0, 0, 0, 0, 0, 0],\n",
      "        [0, 0, 0, 0, 0, 0, 0, 0, 0, 0, 0, 0, 0, 0, 0, 0, 0, 0]]), 'attention_mask': tensor([[1, 1, 1, 1, 1, 1, 1, 1, 1, 1, 1, 1, 0, 0, 0, 0, 0, 0],\n",
      "        [1, 1, 1, 1, 1, 1, 1, 1, 1, 1, 1, 1, 1, 1, 1, 1, 1, 1],\n",
      "        [1, 1, 1, 1, 1, 1, 1, 1, 1, 1, 1, 1, 1, 1, 1, 0, 0, 0],\n",
      "        [1, 1, 1, 1, 1, 1, 1, 1, 1, 1, 1, 1, 1, 0, 0, 0, 0, 0],\n",
      "        [1, 1, 1, 1, 1, 1, 1, 1, 1, 1, 1, 1, 0, 0, 0, 0, 0, 0]])}\n"
     ]
    }
   ],
   "source": [
    "sentences = [\n",
    "    \"I can book tickets for the concert next week.\",\n",
    "    \"Many readers find the first book of A Tale of Two Cities to be confusing.\",\n",
    "    \"She opened the book to page 37 and began to read aloud.\",\n",
    "    \"The police wanted to book him for driving too fast.\",\n",
    "    \"I can reserve tickets for the concert next week.\"\n",
    "]\n",
    "\n",
    "model_inputs = tokenizer(sentences, padding=True, truncation=True, return_tensors=\"pt\")  \n",
    "\n",
    "print(model_inputs)"
   ]
  },
  {
   "cell_type": "markdown",
   "id": "a59a44fc-218e-462d-86ef-fee203417bb6",
   "metadata": {},
   "source": [
    "`model_inputs` is a dictionary containing three objects:\n",
    " * The `input_ids` are the list of token IDs in the input sequences. \n",
    " * The `attention_mask` records which tokens are special padding tokens and which are real tokens. Tokens with a 0 in the attention mask will be ignored.\n",
    " * `token_type_ids` is needed when two sequences are passed together as input to the model for tasks such as next sentence prediction that involve comparing two sentences. Here, each input is a single sentence, so we have only one type of token in the output above. \n",
    " \n",
    "**TO-DO 4:** Look at the outputs above and work out which value the special padding tokens have? \n",
    "\n",
    "ANSWER: Pad tokens are 0. \n",
    "\n",
    "---\n",
    "\n",
    "Notice that the input_ids all start with the same token ID, 101, even though they have different first words. They also have token ID 102 before the padding tokens. This is because the tokenizer inserts two special tokens, which are used in some applicaions of BERT. 101 is the '[CLS]' token, which is a dummy token whose embedding can be trained to represent the whole sequence. The [CLS] token's embedding can then be used as input to a text classifier to classify a sentence or document. Token 102 is '[SEP]', which can be used to separate multiple input sequences in a single example. This is needed in tasks where multiple pieces of text are provided as input, e.g., a to build a classifier that can determine whether two sentences contradict each other. \n",
    "\n",
    "We can now pass all of the model inputs to the model to produce a set of contextualised embeddings:"
   ]
  },
  {
   "cell_type": "code",
   "execution_count": 14,
   "id": "b888b7cf-54d1-450b-9431-e64629177d93",
   "metadata": {},
   "outputs": [],
   "source": [
    "# model_inputs is a dictionary, so to provide the arguments to model(), \n",
    "# we use the double star to unpack the dictionary so that each key in the dictionary is\n",
    "# an argument to model() and each value is the value of the argument. \n",
    "model_outputs = model(**model_inputs) "
   ]
  },
  {
   "cell_type": "markdown",
   "id": "84a8eb74-ce63-459c-9fb3-05fd2768ddf8",
   "metadata": {},
   "source": [
    "**TO-DO 5:** The first four example sentences above all contain the word \"book\", and the last example contains \"reserve\". Obtain a list of contextualised word embeddings for 'book' and 'reserve' in the example sentences using our model. \n",
    "\n",
    "Hint: you may need to convert tensors to numpy arrays. Don't forget that the sequence of embeddings contains [CLS] and [SEP] embeddings. "
   ]
  },
  {
   "cell_type": "code",
   "execution_count": 15,
   "id": "5f0297da-4106-41ef-8f61-5aa3fbb2cc1d",
   "metadata": {},
   "outputs": [],
   "source": [
    "book_tok_id = tokenizer.convert_tokens_to_ids(['book'])\n",
    "\n",
    "#WRITE YOUR OWN CODE HERE\n",
    "embeddings = model_outputs['last_hidden_state']\n",
    "\n",
    "book_embs = []\n",
    "for i in range(4):\n",
    "    book_idx_in_sen = np.argwhere(model_inputs[\"input_ids\"][i].numpy() == book_tok_id)[0][0]\n",
    "    book_embs.append(embeddings[i][book_idx_in_sen].detach().numpy())\n",
    "\n",
    "reserve_tok_id = tokenizer.convert_tokens_to_ids(['reserve'])\n",
    "reserve_idx_in_sen = np.argwhere(model_inputs[\"input_ids\"][4].numpy() == reserve_tok_id)[0][0]\n",
    "reserve_emb = embeddings[4][reserve_idx_in_sen].detach().numpy()"
   ]
  },
  {
   "cell_type": "markdown",
   "id": "5ac47b72-46a3-40ee-b081-bca17da0b49b",
   "metadata": {},
   "source": [
    "**TO-DO 6:** Compute the similarities between these embeddings in the cell below, and show the results. How do the similarities relate to the meaning of the word \"book\" or \"reserve\" in each sentence?\n",
    "\n",
    "ANSWER \n",
    "\n",
    "The occurrences of 'book' with different meanings have larger cosine distances. 'reserve' has a similar meaning to 'book' in the first sentence, so has high similarity. 'book' in the third and second usages has the same meaning but the first and third are different. The fourth sentence contains 'book' as a verb rather than a noun, so has slightly lower similarity with the first.  This shows that the contextualised embeddings change depending on the sentence the word is used in, and its intended meaning. "
   ]
  },
  {
   "cell_type": "code",
   "execution_count": 16,
   "id": "c5a9c5c1-b6b2-4df4-8729-0f0615b5e161",
   "metadata": {},
   "outputs": [
    {
     "name": "stdout",
     "output_type": "stream",
     "text": [
      "I can book tickets for the concert next week.\n",
      "Many readers find the first book of A Tale of Two Cities to be confusing.\n",
      "She opened the book to page 37 and began to read aloud.\n",
      "The police wanted to book him for driving too fast.\n",
      "I can reserve tickets for the concert next week.\n",
      "\n",
      "The table below shows similarities between words according to their contextualised embeddings:\n",
      "[[1.   0.58 0.63 0.6  0.74]\n",
      " [0.58 1.   0.75 0.59 0.29]\n",
      " [0.63 0.75 1.   0.44 0.29]\n",
      " [0.6  0.59 0.44 1.   0.5 ]\n",
      " [0.74 0.29 0.29 0.5  1.  ]]\n"
     ]
    }
   ],
   "source": [
    "from scipy.spatial.distance import cdist  # you may find this function useful for computing distances\n",
    "\n",
    "### WRITE YOUR ANSWER HERE\n",
    "book_embs.append(reserve_emb)\n",
    "\n",
    "similarities = 1 - cdist(book_embs, book_embs, metric='cosine')\n",
    "\n",
    "###\n",
    "\n",
    "for sen in sentences:\n",
    "    print(sen)\n",
    "    \n",
    "print()\n",
    "print(\"The table below shows similarities between words according to their contextualised embeddings:\") \n",
    "print(np.round(similarities, decimals=2))\n"
   ]
  },
  {
   "cell_type": "markdown",
   "id": "680d6407-24ea-41f5-a16e-d03fe15aa124",
   "metadata": {},
   "source": [
    "**TO-DO 7:** Use the BERT model to obtain an embedding of each complete sentence from the five sentences listed above. Show the similarities and discuss what you see. \n",
    "\n",
    "ANSWER: We can use the CLS token to represent the text OR take a mean of the word embeddings of each sentence. "
   ]
  },
  {
   "cell_type": "code",
   "execution_count": 17,
   "id": "32808677-1efb-49aa-a384-cd8ca1632d0c",
   "metadata": {},
   "outputs": [
    {
     "name": "stdout",
     "output_type": "stream",
     "text": [
      "[[1.         0.91577257 0.91224803 0.92487728 0.99678732]\n",
      " [0.91577257 1.         0.88619389 0.94227117 0.92401026]\n",
      " [0.91224803 0.88619389 1.         0.88843566 0.91287972]\n",
      " [0.92487728 0.94227117 0.88843566 1.         0.92794149]\n",
      " [0.99678732 0.92401026 0.91287972 0.92794149 1.        ]]\n",
      "The most similar sentence to \"I can reserve tickets for the concert next week.\" is \"I can book tickets for the concert next week.\", according to TinyBERT.\n"
     ]
    }
   ],
   "source": [
    "### WRITE YOUR ANSWER HERE\n",
    "\n",
    "cls_embs = embeddings[:, 0].detach().numpy()\n",
    "similarities = 1 - cdist(cls_embs, cls_embs, metric='cosine')\n",
    "\n",
    "###\n",
    "\n",
    "print(similarities)\n",
    "# Let's find the most similar sentences...\n",
    "similarities[range(5), range(5)] = 0  # ignore the similarity between a sentence and itself\n",
    "most_similar = np.argmax(np.max(similarities, axis=1))\n",
    "\n",
    "print(f'The most similar sentence to \"{sentences[-1]}\" is \"{sentences[most_similar]}\", according to TinyBERT.')"
   ]
  },
  {
   "cell_type": "markdown",
   "id": "0635306b-51de-4e9d-8608-8bd7473b294a",
   "metadata": {
    "tags": []
   },
   "source": [
    "# 2. Transformer-based Text Classifiers\n",
    "\n",
    "In this section, you will learn how to construct and train a text classifier on top of a pretrained transformer. "
   ]
  },
  {
   "cell_type": "markdown",
   "id": "b1339d48-6225-48cd-b82c-306a89ad3342",
   "metadata": {},
   "source": [
    "To begin you will need to instantiate a suitable classifier model.\n",
    "\n",
    "**TO-DO 8:** Find an AutoModel class that constructs a text classifier from the pretrained TinyBERT model, \"huawei-noah/TinyBERT_General_4L_312D\". Create the `model` object in the cell below using this class. Refer to the [Hugging Face documentation for auto models](https://huggingface.co/transformers/v3.0.2/model_doc/auto.html) as needed. "
   ]
  },
  {
   "cell_type": "code",
   "execution_count": 35,
   "id": "99068090-6a2d-47f0-9d22-b78a6705cd3a",
   "metadata": {},
   "outputs": [
    {
     "name": "stderr",
     "output_type": "stream",
     "text": [
      "Some weights of BertForSequenceClassification were not initialized from the model checkpoint at huawei-noah/TinyBERT_General_4L_312D and are newly initialized: ['classifier.bias', 'classifier.weight']\n",
      "You should probably TRAIN this model on a down-stream task to be able to use it for predictions and inference.\n"
     ]
    }
   ],
   "source": [
    "### WRITE YOUR ANSWER HERE ###\n",
    "from transformers import AutoModelForSequenceClassification\n",
    "\n",
    "model = AutoModelForSequenceClassification.from_pretrained(\"huawei-noah/TinyBERT_General_4L_312D\", num_labels=2)"
   ]
  },
  {
   "cell_type": "markdown",
   "id": "50a38d4e-27a1-4c0c-b3fa-e8dc3bdf61b5",
   "metadata": {},
   "source": [
    "Typically, sequence classification models attach a linear layer (classification head) to the outputs of the transformer. The CLS token's embedding is passed into the classification head, which makes a prediction over classes. We can see a similar structure in most neural network models. Our original text classifier from the first notebook used a fully-connected layer to produce a hidden representation of the whole sentence, whereas now we are replacing that hidden layer with a complete BERT transformer, which produces a sequence of embeddings. \n",
    "\n",
    "<img src=\"neural_text_classifier_smaller.png\" alt=\"Neural text classifier diagram from the slides in lecture 8.1\" width=\"400px\"/>\n",
    "\n",
    "\n",
    "We will need to train our model before we can use it (you may see a message in the output of the last cell telling you this). \n",
    "\n",
    "**TO-DO 9:** The classifier is built on top of a pretrained TinyBERT transformer, which was pretrained using masked language modelling and next sentence prediction. Why does the classifier require further training to provide accurate sentiment classifications? \n",
    "\n",
    "ANSWER\n",
    "\n",
    "Only the BERT layers are pretrained. The complete classifier has additional classifier head layers on top of BERT, which are initialised randomly. The pretraining tasks did not include tweet emotion classification, so the model does not yet encode any relationship between the text embeddings and the emotion categories.  \n",
    "\n",
    "---\n",
    "\n",
    "Next, let's learn how to train our model. For some tasks it is not necessary to update the weights in the BERT model itself, so we can freeze them to save a lot of computation time. We can do this as follows. Since our pretrained model is based on BERT, we can access the weights inside BERT through the variable `model.bert`."
   ]
  },
  {
   "cell_type": "code",
   "execution_count": 36,
   "id": "f8ad56b1-d6e7-4048-9cc0-71849a003363",
   "metadata": {},
   "outputs": [],
   "source": [
    "for param in model.bert.parameters():\n",
    "    param.requires_grad = False"
   ]
  },
  {
   "cell_type": "markdown",
   "id": "a0e0c065-fb40-4e24-b4e4-ffe9ed473ba9",
   "metadata": {},
   "source": [
    "To train our model, we can make use of the Trainer class, which encapsulates a lot of the complex training steps and avoids the need to define our own training function, as we did in the previous notebook (we don't need to write our own `train_nn`).\n",
    "\n",
    "First, define some settings for the training process. This is where we can set training hyperparameters:"
   ]
  },
  {
   "cell_type": "code",
   "execution_count": 38,
   "id": "62af0a20-79a5-49ca-882a-638a68b288f7",
   "metadata": {},
   "outputs": [],
   "source": [
    "from transformers import TrainingArguments\n",
    "\n",
    "training_args = TrainingArguments(\n",
    "    output_dir=\"transformer_checkpoints\",  # specify the directory where models weights will be saved a certain points during training (checkpoints)\n",
    "    num_train_epochs=3, # A sensible and sufficient number to use for the to-dos below\n",
    "    per_device_train_batch_size=16,  # you can decrease this if memory usage is too high while training\n",
    "    logging_steps=50,  # how often to print progress during training\n",
    ")"
   ]
  },
  {
   "cell_type": "markdown",
   "id": "dc2b86a0-df7f-4978-a0ff-43d1b68975c5",
   "metadata": {},
   "source": [
    "Next, create a trainer object:"
   ]
  },
  {
   "cell_type": "code",
   "execution_count": 39,
   "id": "9e5ba93c-f8c4-4542-a316-6aac4a32362d",
   "metadata": {},
   "outputs": [],
   "source": [
    "from transformers import Trainer\n",
    "from torch import nn\n",
    "\n",
    "trainer = Trainer(\n",
    "    model=model,\n",
    "    args=training_args,\n",
    "    train_dataset=train_dataset,\n",
    "    eval_dataset=val_dataset,\n",
    ")"
   ]
  },
  {
   "cell_type": "markdown",
   "id": "3c33b30b-2c23-45e5-b2a1-757f1bf93ab7",
   "metadata": {},
   "source": [
    "To train the model, you will need to call `trainer.train()`.\n",
    "\n",
    "Once the model is trained, we can obtain predictions using the function below. Notice that it is simpler than obtaining the spans for QA -- we simply get the logits for each tweet in the test set, then apply argmax over the classes to find the most probable class for each tweet:"
   ]
  },
  {
   "cell_type": "code",
   "execution_count": 40,
   "id": "ad4e689d-ebec-44c4-b81d-649079e4a4a6",
   "metadata": {
    "tags": []
   },
   "outputs": [],
   "source": [
    "def predict_nn(trained_model, test_dataset):\n",
    "\n",
    "    # Switch off dropout\n",
    "    trained_model.eval()\n",
    "    \n",
    "    # Pass the required items from the dataset to the model    \n",
    "    output = trained_model(attention_mask=torch.tensor(test_dataset[\"attention_mask\"]), input_ids=torch.tensor(test_dataset[\"input_ids\"]))\n",
    "                        \n",
    "    # the output dictionary contains logits, which are the unnormalised scores for each class for each example:\n",
    "    pred_labs = np.argmax(output[\"logits\"].detach().numpy(), axis=1)\n",
    "\n",
    "    return pred_labs"
   ]
  },
  {
   "cell_type": "markdown",
   "id": "8ddf8564-4f98-4e3f-b1f7-b59725a0605c",
   "metadata": {},
   "source": [
    "You should now have all the bits and pieces needed to build and train a text classifier. Let's put them all together...\n",
    "\n",
    "**TO-DO 10:** Train and test your sequence classifier on the [Sentiment](https://huggingface.co/datasets/tweet_eval) dataset using a pretrained transformer. Choose a suitable evaluation metric and compare the result with the simpler neural network classifiers from the previous lab. \n",
    "\n",
    "You may wish to 'unfreeze' the BERT model to see if this boosts performance, but note that it will require a lot more computation time to fine-tune the whole transformer model. Increasing the number of epochs could also boost performance, but again requires much more computation time."
   ]
  },
  {
   "cell_type": "code",
   "execution_count": 41,
   "id": "882cecde-067e-4692-80f6-b09671cd9243",
   "metadata": {},
   "outputs": [
    {
     "data": {
      "text/html": [
       "\n",
       "    <div>\n",
       "      \n",
       "      <progress value='1689' max='1689' style='width:300px; height:20px; vertical-align: middle;'></progress>\n",
       "      [1689/1689 05:23, Epoch 3/3]\n",
       "    </div>\n",
       "    <table border=\"1\" class=\"dataframe\">\n",
       "  <thead>\n",
       " <tr style=\"text-align: left;\">\n",
       "      <th>Step</th>\n",
       "      <th>Training Loss</th>\n",
       "    </tr>\n",
       "  </thead>\n",
       "  <tbody>\n",
       "    <tr>\n",
       "      <td>50</td>\n",
       "      <td>0.692400</td>\n",
       "    </tr>\n",
       "    <tr>\n",
       "      <td>100</td>\n",
       "      <td>0.690300</td>\n",
       "    </tr>\n",
       "    <tr>\n",
       "      <td>150</td>\n",
       "      <td>0.689500</td>\n",
       "    </tr>\n",
       "    <tr>\n",
       "      <td>200</td>\n",
       "      <td>0.687700</td>\n",
       "    </tr>\n",
       "    <tr>\n",
       "      <td>250</td>\n",
       "      <td>0.687500</td>\n",
       "    </tr>\n",
       "    <tr>\n",
       "      <td>300</td>\n",
       "      <td>0.685800</td>\n",
       "    </tr>\n",
       "    <tr>\n",
       "      <td>350</td>\n",
       "      <td>0.689200</td>\n",
       "    </tr>\n",
       "    <tr>\n",
       "      <td>400</td>\n",
       "      <td>0.685600</td>\n",
       "    </tr>\n",
       "    <tr>\n",
       "      <td>450</td>\n",
       "      <td>0.684300</td>\n",
       "    </tr>\n",
       "    <tr>\n",
       "      <td>500</td>\n",
       "      <td>0.683000</td>\n",
       "    </tr>\n",
       "    <tr>\n",
       "      <td>550</td>\n",
       "      <td>0.683400</td>\n",
       "    </tr>\n",
       "    <tr>\n",
       "      <td>600</td>\n",
       "      <td>0.684700</td>\n",
       "    </tr>\n",
       "    <tr>\n",
       "      <td>650</td>\n",
       "      <td>0.680200</td>\n",
       "    </tr>\n",
       "    <tr>\n",
       "      <td>700</td>\n",
       "      <td>0.690200</td>\n",
       "    </tr>\n",
       "    <tr>\n",
       "      <td>750</td>\n",
       "      <td>0.682500</td>\n",
       "    </tr>\n",
       "    <tr>\n",
       "      <td>800</td>\n",
       "      <td>0.676800</td>\n",
       "    </tr>\n",
       "    <tr>\n",
       "      <td>850</td>\n",
       "      <td>0.681400</td>\n",
       "    </tr>\n",
       "    <tr>\n",
       "      <td>900</td>\n",
       "      <td>0.682600</td>\n",
       "    </tr>\n",
       "    <tr>\n",
       "      <td>950</td>\n",
       "      <td>0.678300</td>\n",
       "    </tr>\n",
       "    <tr>\n",
       "      <td>1000</td>\n",
       "      <td>0.682000</td>\n",
       "    </tr>\n",
       "    <tr>\n",
       "      <td>1050</td>\n",
       "      <td>0.675400</td>\n",
       "    </tr>\n",
       "    <tr>\n",
       "      <td>1100</td>\n",
       "      <td>0.676800</td>\n",
       "    </tr>\n",
       "    <tr>\n",
       "      <td>1150</td>\n",
       "      <td>0.678400</td>\n",
       "    </tr>\n",
       "    <tr>\n",
       "      <td>1200</td>\n",
       "      <td>0.679500</td>\n",
       "    </tr>\n",
       "    <tr>\n",
       "      <td>1250</td>\n",
       "      <td>0.676300</td>\n",
       "    </tr>\n",
       "    <tr>\n",
       "      <td>1300</td>\n",
       "      <td>0.678400</td>\n",
       "    </tr>\n",
       "    <tr>\n",
       "      <td>1350</td>\n",
       "      <td>0.679900</td>\n",
       "    </tr>\n",
       "    <tr>\n",
       "      <td>1400</td>\n",
       "      <td>0.683400</td>\n",
       "    </tr>\n",
       "    <tr>\n",
       "      <td>1450</td>\n",
       "      <td>0.681900</td>\n",
       "    </tr>\n",
       "    <tr>\n",
       "      <td>1500</td>\n",
       "      <td>0.679200</td>\n",
       "    </tr>\n",
       "    <tr>\n",
       "      <td>1550</td>\n",
       "      <td>0.685300</td>\n",
       "    </tr>\n",
       "    <tr>\n",
       "      <td>1600</td>\n",
       "      <td>0.680000</td>\n",
       "    </tr>\n",
       "    <tr>\n",
       "      <td>1650</td>\n",
       "      <td>0.673100</td>\n",
       "    </tr>\n",
       "  </tbody>\n",
       "</table><p>"
      ],
      "text/plain": [
       "<IPython.core.display.HTML object>"
      ]
     },
     "metadata": {},
     "output_type": "display_data"
    },
    {
     "name": "stderr",
     "output_type": "stream",
     "text": [
      "Checkpoint destination directory transformer_checkpoints/checkpoint-500 already exists and is non-empty. Saving will proceed but saved results may be invalid.\n",
      "Checkpoint destination directory transformer_checkpoints/checkpoint-1000 already exists and is non-empty. Saving will proceed but saved results may be invalid.\n",
      "Checkpoint destination directory transformer_checkpoints/checkpoint-1500 already exists and is non-empty. Saving will proceed but saved results may be invalid.\n"
     ]
    },
    {
     "data": {
      "text/plain": [
       "TrainOutput(global_step=1689, training_loss=0.6826230337663541, metrics={'train_runtime': 323.5884, 'train_samples_per_second': 83.439, 'train_steps_per_second': 5.22, 'total_flos': 96788224512000.0, 'train_loss': 0.6826230337663541, 'epoch': 3.0})"
      ]
     },
     "execution_count": 41,
     "metadata": {},
     "output_type": "execute_result"
    }
   ],
   "source": [
    "# train...\n",
    "trainer.train()"
   ]
  },
  {
   "cell_type": "code",
   "execution_count": 42,
   "id": "2b68b651-4b1f-4b49-9d6e-39945933820f",
   "metadata": {},
   "outputs": [],
   "source": [
    "# Run the prediction function to get the results:\n",
    "pred_labs_frozen = predict_nn(model, test_dataset)\n",
    "\n",
    "gold_labs = test_dataset[\"label\"]"
   ]
  },
  {
   "cell_type": "code",
   "execution_count": 43,
   "id": "5f2290ff-1ad2-44a0-9247-a323694815b2",
   "metadata": {},
   "outputs": [
    {
     "name": "stdout",
     "output_type": "stream",
     "text": [
      "FROZEN MODEL F1 = 0.36646757679180886\n"
     ]
    }
   ],
   "source": [
    "from sklearn.metrics import f1_score\n",
    "\n",
    "f1 = f1_score(np.array(gold_labs).flatten(), pred_labs_frozen.flatten(), average='macro')\n",
    "print(f'FROZEN MODEL F1 = {f1}')"
   ]
  },
  {
   "cell_type": "code",
   "execution_count": 44,
   "id": "8b744785-39a5-4c84-8813-78507e37cc6d",
   "metadata": {},
   "outputs": [
    {
     "name": "stdout",
     "output_type": "stream",
     "text": [
      "FROZEN MODEL ACCURACY = 0.5784511784511784\n"
     ]
    }
   ],
   "source": [
    "from sklearn.metrics import accuracy_score\n",
    "\n",
    "acc = accuracy_score(np.array(gold_labs).flatten(), pred_labs_frozen.flatten())\n",
    "print(f'FROZEN MODEL ACCURACY = {acc}')"
   ]
  },
  {
   "cell_type": "markdown",
   "id": "48f1661d-a203-42ee-8681-025f2bdfe661",
   "metadata": {},
   "source": [
    "**TO-DO 11:** What kinds of _transfer_ did your sentiment classifier use and what benefit do they provide? \n",
    "\n",
    "ANSWER\n",
    "\n",
    "The BERT layers of the model are first pretrained on MLM and NSP tasks on a different dataset. With frozen BERT, we perform direct transfer of the BERT model to our emotion classification task. When BERT is unfrozen, we fine-tune the BERT layers, which performs inductive transfer learning. The benefit is that knowledgeabout how to process sequences of text to extract embeddings is transferred from the pretraining task (which had lots of data available) to the downstream target task (hate classification, with only a few thousand examples). \n",
    "\n",
    "---\n",
    "\n",
    "The model currently outputs logits, rather than probabilities, which are much more useful for most applications of a text classifier.  To compute the probability of each class for a test sentence, we need to pass the logits through the softmax function. Complete the function below to obtain a probability distribution for a sentence of your choice."
   ]
  },
  {
   "cell_type": "code",
   "execution_count": 45,
   "id": "11fcdc69-ce30-4eb3-afc5-4eeba41b40db",
   "metadata": {},
   "outputs": [
    {
     "name": "stdout",
     "output_type": "stream",
     "text": [
      "The probability of each sentiment class is:\n",
      "probability of non-hate = 0.5486329793930054\n",
      "probability of hate = 0.451367050409317\n"
     ]
    }
   ],
   "source": [
    "sentences = [\"A very joyful and happy day\"]\n",
    "\n",
    "model.eval()\n",
    "output = model(**tokenizer(sentences,  max_length=128, padding=\"max_length\", truncation=True, return_tensors=\"pt\"))\n",
    "        \n",
    "# the output dictionary contains logits, which are the unnormalised scores for each class for each example:\n",
    "logits = output[\"logits\"]\n",
    "\n",
    "#### WRITE YOUR ANSWER HERE   \n",
    "probs = torch.nn.Softmax(dim=1)(output[\"logits\"])\n",
    "####\n",
    "\n",
    "print(f'The probability of each sentiment class is:')\n",
    "classes = ['non-hate', 'hate']\n",
    "for c, category in enumerate(classes):\n",
    "    print(f'probability of {category} = {probs[0][c].detach().numpy()}')"
   ]
  },
  {
   "cell_type": "markdown",
   "id": "26bb0d80-4624-4690-a94d-b9f3c1a60d7f",
   "metadata": {},
   "source": [
    "# 3. OPTIONAL: More on Transformers\n",
    "\n",
    "There are many great resources out there to show you how to use this kind of model in practice:\n",
    "* Use a Transformer for sequence tagging by following the [Token Classification tutorial](https://colab.research.google.com/github/huggingface/notebooks/blob/master/examples/token_classification.ipynb#scrollTo=vc0BSBLIIrJQ) from HuggingFace. This is a little more involved than sequence classification because the tags provided in the training dataset require the text to be tokenized in a particular way, which often differs from what a particular pretrained transformer requires.\n",
    "* An extensive online course is provided by HuggingFace: https://huggingface.co/course/chapter1/1. The pages linked from the HuggingFace course website have an 'open in Colab' button on the top right. You can open the notebook and run it on a Google server there to access GPUs.\n",
    "* Chapters that may be particularly useful: \n",
    "   * Transformers, what can they do? https://huggingface.co/course/chapter1/3?fw=pt\n",
    "   * Using Transformers: https://huggingface.co/course/chapter2/2?fw=pt\n",
    "* They provide information on fine-tuning the transformer models here: https://huggingface.co/docs/transformers/training. Fine-tuning updates the weights inside the pretrained network and requires extensive GPU or TPU computing. \n",
    "* Text Generation: https://colab.research.google.com/github/huggingface/blog/blob/master/notebooks/02_how_to_generate.ipynb. This topic goes way beyond data analytics on this unit and shows you another powerful feature of pretrained transformers.\n",
    "\n",
    "\n"
   ]
  },
  {
   "cell_type": "code",
   "execution_count": null,
   "id": "c1e18f91-4107-437a-b939-caf4c321e7bf",
   "metadata": {},
   "outputs": [],
   "source": []
  }
 ],
 "metadata": {
  "kernelspec": {
   "display_name": "text_analytics",
   "language": "python",
   "name": "text_analytics"
  },
  "language_info": {
   "codemirror_mode": {
    "name": "ipython",
    "version": 3
   },
   "file_extension": ".py",
   "mimetype": "text/x-python",
   "name": "python",
   "nbconvert_exporter": "python",
   "pygments_lexer": "ipython3",
   "version": "3.11.8"
  }
 },
 "nbformat": 4,
 "nbformat_minor": 5
}
